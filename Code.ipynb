{
  "nbformat": 4,
  "nbformat_minor": 0,
  "metadata": {
    "colab": {
      "provenance": [],
      "collapsed_sections": [],
      "include_colab_link": true
    },
    "kernelspec": {
      "name": "python3",
      "display_name": "Python 3"
    },
    "language_info": {
      "name": "python"
    }
  },
  "cells": [
    {
      "cell_type": "markdown",
      "metadata": {
        "id": "view-in-github",
        "colab_type": "text"
      },
      "source": [
        "<a href=\"https://colab.research.google.com/github/Bhuvannnn/Crop-Prediction/blob/main/RGS.ipynb\" target=\"_parent\"><img src=\"https://colab.research.google.com/assets/colab-badge.svg\" alt=\"Open In Colab\"/></a>"
      ]
    },
    {
      "cell_type": "code",
      "execution_count": null,
      "metadata": {
        "id": "6OHYQKQfG621"
      },
      "outputs": [],
      "source": [
        "import numpy as np\n",
        "import pandas as pd\n",
        "import seaborn as sns\n",
        "from sklearn.metrics import accuracy_score\n",
        "import matplotlib.pyplot as plt\n",
        "from sklearn.linear_model import LogisticRegression\n",
        "from sklearn.metrics import classification_report\n",
        "from sklearn import metrics"
      ]
    },
    {
      "cell_type": "code",
      "source": [
        "from google.colab import drive\n",
        "drive.mount('/content/drive')"
      ],
      "metadata": {
        "id": "5PlX7ISU6Vv7",
        "colab": {
          "base_uri": "https://localhost:8080/"
        },
        "outputId": "c9927ea2-19e9-4e65-9ad9-845e02b1b2ba"
      },
      "execution_count": null,
      "outputs": [
        {
          "output_type": "stream",
          "name": "stdout",
          "text": [
            "Drive already mounted at /content/drive; to attempt to forcibly remount, call drive.mount(\"/content/drive\", force_remount=True).\n"
          ]
        }
      ]
    },
    {
      "cell_type": "markdown",
      "source": [
        "Importing data"
      ],
      "metadata": {
        "id": "jSDXBO0THYjm"
      }
    },
    {
      "cell_type": "code",
      "source": [
        "df = pd.read_csv(\"/content/drive/MyDrive/RGS/Crop_recommendation.csv\")\n",
        "df"
      ],
      "metadata": {
        "id": "bcmbBGalHavQ",
        "colab": {
          "base_uri": "https://localhost:8080/",
          "height": 424
        },
        "outputId": "37fe17b7-8eea-48a6-8f63-c2b40ede0a8e"
      },
      "execution_count": null,
      "outputs": [
        {
          "output_type": "execute_result",
          "data": {
            "text/plain": [
              "        N   P   K  temperature   humidity        ph    rainfall   label\n",
              "0      90  42  43    20.879744  82.002744  6.502985  202.935536    rice\n",
              "1      85  58  41    21.770462  80.319644  7.038096  226.655537    rice\n",
              "2      60  55  44    23.004459  82.320763  7.840207  263.964248    rice\n",
              "3      74  35  40    26.491096  80.158363  6.980401  242.864034    rice\n",
              "4      78  42  42    20.130175  81.604873  7.628473  262.717340    rice\n",
              "...   ...  ..  ..          ...        ...       ...         ...     ...\n",
              "2195  107  34  32    26.774637  66.413269  6.780064  177.774507  coffee\n",
              "2196   99  15  27    27.417112  56.636362  6.086922  127.924610  coffee\n",
              "2197  118  33  30    24.131797  67.225123  6.362608  173.322839  coffee\n",
              "2198  117  32  34    26.272418  52.127394  6.758793  127.175293  coffee\n",
              "2199  104  18  30    23.603016  60.396475  6.779833  140.937041  coffee\n",
              "\n",
              "[2200 rows x 8 columns]"
            ],
            "text/html": [
              "\n",
              "  <div id=\"df-d69f9ff9-e5f8-46fb-82df-51a336a3976f\">\n",
              "    <div class=\"colab-df-container\">\n",
              "      <div>\n",
              "<style scoped>\n",
              "    .dataframe tbody tr th:only-of-type {\n",
              "        vertical-align: middle;\n",
              "    }\n",
              "\n",
              "    .dataframe tbody tr th {\n",
              "        vertical-align: top;\n",
              "    }\n",
              "\n",
              "    .dataframe thead th {\n",
              "        text-align: right;\n",
              "    }\n",
              "</style>\n",
              "<table border=\"1\" class=\"dataframe\">\n",
              "  <thead>\n",
              "    <tr style=\"text-align: right;\">\n",
              "      <th></th>\n",
              "      <th>N</th>\n",
              "      <th>P</th>\n",
              "      <th>K</th>\n",
              "      <th>temperature</th>\n",
              "      <th>humidity</th>\n",
              "      <th>ph</th>\n",
              "      <th>rainfall</th>\n",
              "      <th>label</th>\n",
              "    </tr>\n",
              "  </thead>\n",
              "  <tbody>\n",
              "    <tr>\n",
              "      <th>0</th>\n",
              "      <td>90</td>\n",
              "      <td>42</td>\n",
              "      <td>43</td>\n",
              "      <td>20.879744</td>\n",
              "      <td>82.002744</td>\n",
              "      <td>6.502985</td>\n",
              "      <td>202.935536</td>\n",
              "      <td>rice</td>\n",
              "    </tr>\n",
              "    <tr>\n",
              "      <th>1</th>\n",
              "      <td>85</td>\n",
              "      <td>58</td>\n",
              "      <td>41</td>\n",
              "      <td>21.770462</td>\n",
              "      <td>80.319644</td>\n",
              "      <td>7.038096</td>\n",
              "      <td>226.655537</td>\n",
              "      <td>rice</td>\n",
              "    </tr>\n",
              "    <tr>\n",
              "      <th>2</th>\n",
              "      <td>60</td>\n",
              "      <td>55</td>\n",
              "      <td>44</td>\n",
              "      <td>23.004459</td>\n",
              "      <td>82.320763</td>\n",
              "      <td>7.840207</td>\n",
              "      <td>263.964248</td>\n",
              "      <td>rice</td>\n",
              "    </tr>\n",
              "    <tr>\n",
              "      <th>3</th>\n",
              "      <td>74</td>\n",
              "      <td>35</td>\n",
              "      <td>40</td>\n",
              "      <td>26.491096</td>\n",
              "      <td>80.158363</td>\n",
              "      <td>6.980401</td>\n",
              "      <td>242.864034</td>\n",
              "      <td>rice</td>\n",
              "    </tr>\n",
              "    <tr>\n",
              "      <th>4</th>\n",
              "      <td>78</td>\n",
              "      <td>42</td>\n",
              "      <td>42</td>\n",
              "      <td>20.130175</td>\n",
              "      <td>81.604873</td>\n",
              "      <td>7.628473</td>\n",
              "      <td>262.717340</td>\n",
              "      <td>rice</td>\n",
              "    </tr>\n",
              "    <tr>\n",
              "      <th>...</th>\n",
              "      <td>...</td>\n",
              "      <td>...</td>\n",
              "      <td>...</td>\n",
              "      <td>...</td>\n",
              "      <td>...</td>\n",
              "      <td>...</td>\n",
              "      <td>...</td>\n",
              "      <td>...</td>\n",
              "    </tr>\n",
              "    <tr>\n",
              "      <th>2195</th>\n",
              "      <td>107</td>\n",
              "      <td>34</td>\n",
              "      <td>32</td>\n",
              "      <td>26.774637</td>\n",
              "      <td>66.413269</td>\n",
              "      <td>6.780064</td>\n",
              "      <td>177.774507</td>\n",
              "      <td>coffee</td>\n",
              "    </tr>\n",
              "    <tr>\n",
              "      <th>2196</th>\n",
              "      <td>99</td>\n",
              "      <td>15</td>\n",
              "      <td>27</td>\n",
              "      <td>27.417112</td>\n",
              "      <td>56.636362</td>\n",
              "      <td>6.086922</td>\n",
              "      <td>127.924610</td>\n",
              "      <td>coffee</td>\n",
              "    </tr>\n",
              "    <tr>\n",
              "      <th>2197</th>\n",
              "      <td>118</td>\n",
              "      <td>33</td>\n",
              "      <td>30</td>\n",
              "      <td>24.131797</td>\n",
              "      <td>67.225123</td>\n",
              "      <td>6.362608</td>\n",
              "      <td>173.322839</td>\n",
              "      <td>coffee</td>\n",
              "    </tr>\n",
              "    <tr>\n",
              "      <th>2198</th>\n",
              "      <td>117</td>\n",
              "      <td>32</td>\n",
              "      <td>34</td>\n",
              "      <td>26.272418</td>\n",
              "      <td>52.127394</td>\n",
              "      <td>6.758793</td>\n",
              "      <td>127.175293</td>\n",
              "      <td>coffee</td>\n",
              "    </tr>\n",
              "    <tr>\n",
              "      <th>2199</th>\n",
              "      <td>104</td>\n",
              "      <td>18</td>\n",
              "      <td>30</td>\n",
              "      <td>23.603016</td>\n",
              "      <td>60.396475</td>\n",
              "      <td>6.779833</td>\n",
              "      <td>140.937041</td>\n",
              "      <td>coffee</td>\n",
              "    </tr>\n",
              "  </tbody>\n",
              "</table>\n",
              "<p>2200 rows × 8 columns</p>\n",
              "</div>\n",
              "      <button class=\"colab-df-convert\" onclick=\"convertToInteractive('df-d69f9ff9-e5f8-46fb-82df-51a336a3976f')\"\n",
              "              title=\"Convert this dataframe to an interactive table.\"\n",
              "              style=\"display:none;\">\n",
              "        \n",
              "  <svg xmlns=\"http://www.w3.org/2000/svg\" height=\"24px\"viewBox=\"0 0 24 24\"\n",
              "       width=\"24px\">\n",
              "    <path d=\"M0 0h24v24H0V0z\" fill=\"none\"/>\n",
              "    <path d=\"M18.56 5.44l.94 2.06.94-2.06 2.06-.94-2.06-.94-.94-2.06-.94 2.06-2.06.94zm-11 1L8.5 8.5l.94-2.06 2.06-.94-2.06-.94L8.5 2.5l-.94 2.06-2.06.94zm10 10l.94 2.06.94-2.06 2.06-.94-2.06-.94-.94-2.06-.94 2.06-2.06.94z\"/><path d=\"M17.41 7.96l-1.37-1.37c-.4-.4-.92-.59-1.43-.59-.52 0-1.04.2-1.43.59L10.3 9.45l-7.72 7.72c-.78.78-.78 2.05 0 2.83L4 21.41c.39.39.9.59 1.41.59.51 0 1.02-.2 1.41-.59l7.78-7.78 2.81-2.81c.8-.78.8-2.07 0-2.86zM5.41 20L4 18.59l7.72-7.72 1.47 1.35L5.41 20z\"/>\n",
              "  </svg>\n",
              "      </button>\n",
              "      \n",
              "  <style>\n",
              "    .colab-df-container {\n",
              "      display:flex;\n",
              "      flex-wrap:wrap;\n",
              "      gap: 12px;\n",
              "    }\n",
              "\n",
              "    .colab-df-convert {\n",
              "      background-color: #E8F0FE;\n",
              "      border: none;\n",
              "      border-radius: 50%;\n",
              "      cursor: pointer;\n",
              "      display: none;\n",
              "      fill: #1967D2;\n",
              "      height: 32px;\n",
              "      padding: 0 0 0 0;\n",
              "      width: 32px;\n",
              "    }\n",
              "\n",
              "    .colab-df-convert:hover {\n",
              "      background-color: #E2EBFA;\n",
              "      box-shadow: 0px 1px 2px rgba(60, 64, 67, 0.3), 0px 1px 3px 1px rgba(60, 64, 67, 0.15);\n",
              "      fill: #174EA6;\n",
              "    }\n",
              "\n",
              "    [theme=dark] .colab-df-convert {\n",
              "      background-color: #3B4455;\n",
              "      fill: #D2E3FC;\n",
              "    }\n",
              "\n",
              "    [theme=dark] .colab-df-convert:hover {\n",
              "      background-color: #434B5C;\n",
              "      box-shadow: 0px 1px 3px 1px rgba(0, 0, 0, 0.15);\n",
              "      filter: drop-shadow(0px 1px 2px rgba(0, 0, 0, 0.3));\n",
              "      fill: #FFFFFF;\n",
              "    }\n",
              "  </style>\n",
              "\n",
              "      <script>\n",
              "        const buttonEl =\n",
              "          document.querySelector('#df-d69f9ff9-e5f8-46fb-82df-51a336a3976f button.colab-df-convert');\n",
              "        buttonEl.style.display =\n",
              "          google.colab.kernel.accessAllowed ? 'block' : 'none';\n",
              "\n",
              "        async function convertToInteractive(key) {\n",
              "          const element = document.querySelector('#df-d69f9ff9-e5f8-46fb-82df-51a336a3976f');\n",
              "          const dataTable =\n",
              "            await google.colab.kernel.invokeFunction('convertToInteractive',\n",
              "                                                     [key], {});\n",
              "          if (!dataTable) return;\n",
              "\n",
              "          const docLinkHtml = 'Like what you see? Visit the ' +\n",
              "            '<a target=\"_blank\" href=https://colab.research.google.com/notebooks/data_table.ipynb>data table notebook</a>'\n",
              "            + ' to learn more about interactive tables.';\n",
              "          element.innerHTML = '';\n",
              "          dataTable['output_type'] = 'display_data';\n",
              "          await google.colab.output.renderOutput(dataTable, element);\n",
              "          const docLink = document.createElement('div');\n",
              "          docLink.innerHTML = docLinkHtml;\n",
              "          element.appendChild(docLink);\n",
              "        }\n",
              "      </script>\n",
              "    </div>\n",
              "  </div>\n",
              "  "
            ]
          },
          "metadata": {},
          "execution_count": 5
        }
      ]
    },
    {
      "cell_type": "code",
      "source": [],
      "metadata": {
        "id": "xmioae_J52lg"
      },
      "execution_count": null,
      "outputs": []
    },
    {
      "cell_type": "markdown",
      "source": [
        "Data PreProcessing\n"
      ],
      "metadata": {
        "id": "eDUX7_rXX4lY"
      }
    },
    {
      "cell_type": "code",
      "source": [
        "df.isnull().sum()"
      ],
      "metadata": {
        "id": "MhAt4AcTX7jB",
        "colab": {
          "base_uri": "https://localhost:8080/"
        },
        "outputId": "b48c7ed7-cad7-49c2-fa95-4fce154c7305"
      },
      "execution_count": null,
      "outputs": [
        {
          "output_type": "execute_result",
          "data": {
            "text/plain": [
              "N              0\n",
              "P              0\n",
              "K              0\n",
              "temperature    0\n",
              "humidity       0\n",
              "ph             0\n",
              "rainfall       0\n",
              "label          0\n",
              "dtype: int64"
            ]
          },
          "metadata": {},
          "execution_count": 6
        }
      ]
    },
    {
      "cell_type": "code",
      "source": [
        "print(len(df.columns))"
      ],
      "metadata": {
        "id": "eeFtg0VyT0N-",
        "colab": {
          "base_uri": "https://localhost:8080/"
        },
        "outputId": "89d4ca57-dfaa-400f-ad0c-3c0fa87740cc"
      },
      "execution_count": null,
      "outputs": [
        {
          "output_type": "stream",
          "name": "stdout",
          "text": [
            "8\n"
          ]
        }
      ]
    },
    {
      "cell_type": "code",
      "source": [
        "df.describe()"
      ],
      "metadata": {
        "id": "7RWrzl3dYgSQ",
        "colab": {
          "base_uri": "https://localhost:8080/",
          "height": 300
        },
        "outputId": "71876ebe-1563-446f-a818-fe2173e276eb"
      },
      "execution_count": null,
      "outputs": [
        {
          "output_type": "execute_result",
          "data": {
            "text/plain": [
              "                 N            P            K  temperature     humidity  \\\n",
              "count  2200.000000  2200.000000  2200.000000  2200.000000  2200.000000   \n",
              "mean     50.551818    53.362727    48.149091    25.616244    71.481779   \n",
              "std      36.917334    32.985883    50.647931     5.063749    22.263812   \n",
              "min       0.000000     5.000000     5.000000     8.825675    14.258040   \n",
              "25%      21.000000    28.000000    20.000000    22.769375    60.261953   \n",
              "50%      37.000000    51.000000    32.000000    25.598693    80.473146   \n",
              "75%      84.250000    68.000000    49.000000    28.561654    89.948771   \n",
              "max     140.000000   145.000000   205.000000    43.675493    99.981876   \n",
              "\n",
              "                ph     rainfall  \n",
              "count  2200.000000  2200.000000  \n",
              "mean      6.469480   103.463655  \n",
              "std       0.773938    54.958389  \n",
              "min       3.504752    20.211267  \n",
              "25%       5.971693    64.551686  \n",
              "50%       6.425045    94.867624  \n",
              "75%       6.923643   124.267508  \n",
              "max       9.935091   298.560117  "
            ],
            "text/html": [
              "\n",
              "  <div id=\"df-368a0eb9-7c18-4832-a077-2d14c19613a0\">\n",
              "    <div class=\"colab-df-container\">\n",
              "      <div>\n",
              "<style scoped>\n",
              "    .dataframe tbody tr th:only-of-type {\n",
              "        vertical-align: middle;\n",
              "    }\n",
              "\n",
              "    .dataframe tbody tr th {\n",
              "        vertical-align: top;\n",
              "    }\n",
              "\n",
              "    .dataframe thead th {\n",
              "        text-align: right;\n",
              "    }\n",
              "</style>\n",
              "<table border=\"1\" class=\"dataframe\">\n",
              "  <thead>\n",
              "    <tr style=\"text-align: right;\">\n",
              "      <th></th>\n",
              "      <th>N</th>\n",
              "      <th>P</th>\n",
              "      <th>K</th>\n",
              "      <th>temperature</th>\n",
              "      <th>humidity</th>\n",
              "      <th>ph</th>\n",
              "      <th>rainfall</th>\n",
              "    </tr>\n",
              "  </thead>\n",
              "  <tbody>\n",
              "    <tr>\n",
              "      <th>count</th>\n",
              "      <td>2200.000000</td>\n",
              "      <td>2200.000000</td>\n",
              "      <td>2200.000000</td>\n",
              "      <td>2200.000000</td>\n",
              "      <td>2200.000000</td>\n",
              "      <td>2200.000000</td>\n",
              "      <td>2200.000000</td>\n",
              "    </tr>\n",
              "    <tr>\n",
              "      <th>mean</th>\n",
              "      <td>50.551818</td>\n",
              "      <td>53.362727</td>\n",
              "      <td>48.149091</td>\n",
              "      <td>25.616244</td>\n",
              "      <td>71.481779</td>\n",
              "      <td>6.469480</td>\n",
              "      <td>103.463655</td>\n",
              "    </tr>\n",
              "    <tr>\n",
              "      <th>std</th>\n",
              "      <td>36.917334</td>\n",
              "      <td>32.985883</td>\n",
              "      <td>50.647931</td>\n",
              "      <td>5.063749</td>\n",
              "      <td>22.263812</td>\n",
              "      <td>0.773938</td>\n",
              "      <td>54.958389</td>\n",
              "    </tr>\n",
              "    <tr>\n",
              "      <th>min</th>\n",
              "      <td>0.000000</td>\n",
              "      <td>5.000000</td>\n",
              "      <td>5.000000</td>\n",
              "      <td>8.825675</td>\n",
              "      <td>14.258040</td>\n",
              "      <td>3.504752</td>\n",
              "      <td>20.211267</td>\n",
              "    </tr>\n",
              "    <tr>\n",
              "      <th>25%</th>\n",
              "      <td>21.000000</td>\n",
              "      <td>28.000000</td>\n",
              "      <td>20.000000</td>\n",
              "      <td>22.769375</td>\n",
              "      <td>60.261953</td>\n",
              "      <td>5.971693</td>\n",
              "      <td>64.551686</td>\n",
              "    </tr>\n",
              "    <tr>\n",
              "      <th>50%</th>\n",
              "      <td>37.000000</td>\n",
              "      <td>51.000000</td>\n",
              "      <td>32.000000</td>\n",
              "      <td>25.598693</td>\n",
              "      <td>80.473146</td>\n",
              "      <td>6.425045</td>\n",
              "      <td>94.867624</td>\n",
              "    </tr>\n",
              "    <tr>\n",
              "      <th>75%</th>\n",
              "      <td>84.250000</td>\n",
              "      <td>68.000000</td>\n",
              "      <td>49.000000</td>\n",
              "      <td>28.561654</td>\n",
              "      <td>89.948771</td>\n",
              "      <td>6.923643</td>\n",
              "      <td>124.267508</td>\n",
              "    </tr>\n",
              "    <tr>\n",
              "      <th>max</th>\n",
              "      <td>140.000000</td>\n",
              "      <td>145.000000</td>\n",
              "      <td>205.000000</td>\n",
              "      <td>43.675493</td>\n",
              "      <td>99.981876</td>\n",
              "      <td>9.935091</td>\n",
              "      <td>298.560117</td>\n",
              "    </tr>\n",
              "  </tbody>\n",
              "</table>\n",
              "</div>\n",
              "      <button class=\"colab-df-convert\" onclick=\"convertToInteractive('df-368a0eb9-7c18-4832-a077-2d14c19613a0')\"\n",
              "              title=\"Convert this dataframe to an interactive table.\"\n",
              "              style=\"display:none;\">\n",
              "        \n",
              "  <svg xmlns=\"http://www.w3.org/2000/svg\" height=\"24px\"viewBox=\"0 0 24 24\"\n",
              "       width=\"24px\">\n",
              "    <path d=\"M0 0h24v24H0V0z\" fill=\"none\"/>\n",
              "    <path d=\"M18.56 5.44l.94 2.06.94-2.06 2.06-.94-2.06-.94-.94-2.06-.94 2.06-2.06.94zm-11 1L8.5 8.5l.94-2.06 2.06-.94-2.06-.94L8.5 2.5l-.94 2.06-2.06.94zm10 10l.94 2.06.94-2.06 2.06-.94-2.06-.94-.94-2.06-.94 2.06-2.06.94z\"/><path d=\"M17.41 7.96l-1.37-1.37c-.4-.4-.92-.59-1.43-.59-.52 0-1.04.2-1.43.59L10.3 9.45l-7.72 7.72c-.78.78-.78 2.05 0 2.83L4 21.41c.39.39.9.59 1.41.59.51 0 1.02-.2 1.41-.59l7.78-7.78 2.81-2.81c.8-.78.8-2.07 0-2.86zM5.41 20L4 18.59l7.72-7.72 1.47 1.35L5.41 20z\"/>\n",
              "  </svg>\n",
              "      </button>\n",
              "      \n",
              "  <style>\n",
              "    .colab-df-container {\n",
              "      display:flex;\n",
              "      flex-wrap:wrap;\n",
              "      gap: 12px;\n",
              "    }\n",
              "\n",
              "    .colab-df-convert {\n",
              "      background-color: #E8F0FE;\n",
              "      border: none;\n",
              "      border-radius: 50%;\n",
              "      cursor: pointer;\n",
              "      display: none;\n",
              "      fill: #1967D2;\n",
              "      height: 32px;\n",
              "      padding: 0 0 0 0;\n",
              "      width: 32px;\n",
              "    }\n",
              "\n",
              "    .colab-df-convert:hover {\n",
              "      background-color: #E2EBFA;\n",
              "      box-shadow: 0px 1px 2px rgba(60, 64, 67, 0.3), 0px 1px 3px 1px rgba(60, 64, 67, 0.15);\n",
              "      fill: #174EA6;\n",
              "    }\n",
              "\n",
              "    [theme=dark] .colab-df-convert {\n",
              "      background-color: #3B4455;\n",
              "      fill: #D2E3FC;\n",
              "    }\n",
              "\n",
              "    [theme=dark] .colab-df-convert:hover {\n",
              "      background-color: #434B5C;\n",
              "      box-shadow: 0px 1px 3px 1px rgba(0, 0, 0, 0.15);\n",
              "      filter: drop-shadow(0px 1px 2px rgba(0, 0, 0, 0.3));\n",
              "      fill: #FFFFFF;\n",
              "    }\n",
              "  </style>\n",
              "\n",
              "      <script>\n",
              "        const buttonEl =\n",
              "          document.querySelector('#df-368a0eb9-7c18-4832-a077-2d14c19613a0 button.colab-df-convert');\n",
              "        buttonEl.style.display =\n",
              "          google.colab.kernel.accessAllowed ? 'block' : 'none';\n",
              "\n",
              "        async function convertToInteractive(key) {\n",
              "          const element = document.querySelector('#df-368a0eb9-7c18-4832-a077-2d14c19613a0');\n",
              "          const dataTable =\n",
              "            await google.colab.kernel.invokeFunction('convertToInteractive',\n",
              "                                                     [key], {});\n",
              "          if (!dataTable) return;\n",
              "\n",
              "          const docLinkHtml = 'Like what you see? Visit the ' +\n",
              "            '<a target=\"_blank\" href=https://colab.research.google.com/notebooks/data_table.ipynb>data table notebook</a>'\n",
              "            + ' to learn more about interactive tables.';\n",
              "          element.innerHTML = '';\n",
              "          dataTable['output_type'] = 'display_data';\n",
              "          await google.colab.output.renderOutput(dataTable, element);\n",
              "          const docLink = document.createElement('div');\n",
              "          docLink.innerHTML = docLinkHtml;\n",
              "          element.appendChild(docLink);\n",
              "        }\n",
              "      </script>\n",
              "    </div>\n",
              "  </div>\n",
              "  "
            ]
          },
          "metadata": {},
          "execution_count": 8
        }
      ]
    },
    {
      "cell_type": "code",
      "source": [
        "df.info()"
      ],
      "metadata": {
        "id": "jUz1W-7gYnRH",
        "colab": {
          "base_uri": "https://localhost:8080/"
        },
        "outputId": "2a46bc74-6645-4852-a0fe-d64f7d948b3e"
      },
      "execution_count": null,
      "outputs": [
        {
          "output_type": "stream",
          "name": "stdout",
          "text": [
            "<class 'pandas.core.frame.DataFrame'>\n",
            "RangeIndex: 2200 entries, 0 to 2199\n",
            "Data columns (total 8 columns):\n",
            " #   Column       Non-Null Count  Dtype  \n",
            "---  ------       --------------  -----  \n",
            " 0   N            2200 non-null   int64  \n",
            " 1   P            2200 non-null   int64  \n",
            " 2   K            2200 non-null   int64  \n",
            " 3   temperature  2200 non-null   float64\n",
            " 4   humidity     2200 non-null   float64\n",
            " 5   ph           2200 non-null   float64\n",
            " 6   rainfall     2200 non-null   float64\n",
            " 7   label        2200 non-null   object \n",
            "dtypes: float64(4), int64(3), object(1)\n",
            "memory usage: 137.6+ KB\n"
          ]
        }
      ]
    },
    {
      "cell_type": "markdown",
      "source": [
        "Exploratory Data Analysis\n"
      ],
      "metadata": {
        "id": "B1FX2-hbYs8u"
      }
    },
    {
      "cell_type": "markdown",
      "source": [
        "Checking Null Values"
      ],
      "metadata": {
        "id": "n9VxQBhwZF8m"
      }
    },
    {
      "cell_type": "code",
      "source": [
        "sns.heatmap(df.isnull(),cmap=\"coolwarm\")\n",
        "plt.show()"
      ],
      "metadata": {
        "id": "bB8SB-oMYzN7",
        "colab": {
          "base_uri": "https://localhost:8080/",
          "height": 323
        },
        "outputId": "5b728da9-38bd-47b0-b80d-0ba2725e5ef6"
      },
      "execution_count": null,
      "outputs": [
        {
          "output_type": "display_data",
          "data": {
            "text/plain": [
              "<Figure size 432x288 with 2 Axes>"
            ],
            "image/png": "[encoded data removed]"
          },
          "metadata": {
            "needs_background": "light"
          }
        }
      ]
    },
    {
      "cell_type": "markdown",
      "source": [
        "Checking If dataset is balanced or not\n"
      ],
      "metadata": {
        "id": "oc6sHhcLZLDQ"
      }
    },
    {
      "cell_type": "code",
      "source": [
        "sns.countplot(y='label',data=df, palette=\"plasma_r\")"
      ],
      "metadata": {
        "id": "KyY7pVQYZvv9",
        "colab": {
          "base_uri": "https://localhost:8080/",
          "height": 296
        },
        "outputId": "411bfc40-cc3b-4d3a-8110-440a98cb7157"
      },
      "execution_count": null,
      "outputs": [
        {
          "output_type": "execute_result",
          "data": {
            "text/plain": [
              "<matplotlib.axes._subplots.AxesSubplot at 0x7fbb740bf390>"
            ]
          },
          "metadata": {},
          "execution_count": 11
        },
        {
          "output_type": "display_data",
          "data": {
            "text/plain": [
              "<Figure size 432x288 with 1 Axes>"
            ],
            "image/png": "[encoded data removed]"
          },
          "metadata": {
            "needs_background": "light"
          }
        }
      ]
    },
    {
      "cell_type": "markdown",
      "source": [
        "Checking Ph values if they fall between 6 to 7"
      ],
      "metadata": {
        "id": "Xm6og2x9aGl4"
      }
    },
    {
      "cell_type": "code",
      "source": [
        "sns.boxplot(y='label',x='ph',data=df)"
      ],
      "metadata": {
        "id": "lKISSORIaLdl",
        "colab": {
          "base_uri": "https://localhost:8080/",
          "height": 296
        },
        "outputId": "09aef160-2c98-4a5b-aa1d-d9d3ee628fbb"
      },
      "execution_count": null,
      "outputs": [
        {
          "output_type": "execute_result",
          "data": {
            "text/plain": [
              "<matplotlib.axes._subplots.AxesSubplot at 0x7fbb73b64b90>"
            ]
          },
          "metadata": {},
          "execution_count": 12
        },
        {
          "output_type": "display_data",
          "data": {
            "text/plain": [
              "<Figure size 432x288 with 1 Axes>"
            ],
            "image/png": "[encoded data removed]"
          },
          "metadata": {
            "needs_background": "light"
          }
        }
      ]
    },
    {
      "cell_type": "markdown",
      "source": [
        "Preprocessing"
      ],
      "metadata": {
        "id": "vuZaJ4m6aO5J"
      }
    },
    {
      "cell_type": "code",
      "source": [
        "c=df.label.astype('category')\n",
        "targets = dict(enumerate(c.cat.categories))\n",
        "df['target']=c.cat.codes\n",
        "\n",
        "y=df.target\n",
        "X=df[['N','P','K','temperature','humidity','ph','rainfall']]"
      ],
      "metadata": {
        "id": "P5XouwX9aVBm"
      },
      "execution_count": null,
      "outputs": []
    },
    {
      "cell_type": "markdown",
      "source": [
        "Checking relation between P and K"
      ],
      "metadata": {
        "id": "Cz0XWWbTa8uE"
      }
    },
    {
      "cell_type": "code",
      "source": [
        "sns.heatmap(X.corr())"
      ],
      "metadata": {
        "id": "_E0tincfa6qE",
        "colab": {
          "base_uri": "https://localhost:8080/",
          "height": 339
        },
        "outputId": "fbf56799-e9d4-40f1-91d9-106c2c1e8885"
      },
      "execution_count": null,
      "outputs": [
        {
          "output_type": "execute_result",
          "data": {
            "text/plain": [
              "<matplotlib.axes._subplots.AxesSubplot at 0x7fbb738e35d0>"
            ]
          },
          "metadata": {},
          "execution_count": 14
        },
        {
          "output_type": "display_data",
          "data": {
            "text/plain": [
              "<Figure size 432x288 with 2 Axes>"
            ],
            "image/png": "[encoded data removed]"
          },
          "metadata": {
            "needs_background": "light"
          }
        }
      ]
    },
    {
      "cell_type": "markdown",
      "source": [
        "SCALLING\n"
      ],
      "metadata": {
        "id": "msZIZcZbfmpL"
      }
    },
    {
      "cell_type": "markdown",
      "source": [
        "MIN MAX"
      ],
      "metadata": {
        "id": "9zTK-LkZiICn"
      }
    },
    {
      "cell_type": "code",
      "source": [
        "from sklearn.model_selection import train_test_split\n",
        "from sklearn.preprocessing import MinMaxScaler\n",
        "\n",
        "X_train, X_test, y_train, y_test = train_test_split(X, y,random_state=1)\n",
        "\n",
        "scaler = MinMaxScaler()\n",
        "X_train_scaled = scaler.fit_transform(X_train)\n",
        "\n",
        "X_test_scaled = scaler.transform(X_test)"
      ],
      "metadata": {
        "id": "kYPu61xabGXV"
      },
      "execution_count": null,
      "outputs": []
    },
    {
      "cell_type": "markdown",
      "source": [
        "STANDARD SCALLER"
      ],
      "metadata": {
        "id": "LXD-5ti-iJ25"
      }
    },
    {
      "cell_type": "code",
      "source": [
        "from sklearn.model_selection import train_test_split\n",
        "from sklearn.preprocessing import StandardScaler\n",
        "\n",
        "X_train, X_test, y_train, y_test = train_test_split(X, y,random_state=1)\n",
        "\n",
        "scaler = StandardScaler()\n",
        "X_train_scaled_ST = scaler.fit_transform(X_train)\n",
        "\n",
        "X_test_scaled_ST = scaler.transform(X_test)"
      ],
      "metadata": {
        "id": "Ktbj1TAyh-2y"
      },
      "execution_count": null,
      "outputs": []
    },
    {
      "cell_type": "markdown",
      "source": [
        "KNN MODEL"
      ],
      "metadata": {
        "id": "PAdSQMkaftpi"
      }
    },
    {
      "cell_type": "code",
      "source": [
        "from sklearn.neighbors import KNeighborsClassifier\n",
        "knn = KNeighborsClassifier()\n",
        "knn.fit(X_train_scaled, y_train)\n",
        "knn.score(X_test_scaled, y_test)"
      ],
      "metadata": {
        "id": "Ux8Iyp8kfou2",
        "colab": {
          "base_uri": "https://localhost:8080/"
        },
        "outputId": "97bb22e1-1c77-4280-d6d1-00597e3a6fba"
      },
      "execution_count": null,
      "outputs": [
        {
          "output_type": "execute_result",
          "data": {
            "text/plain": [
              "0.9781818181818182"
            ]
          },
          "metadata": {},
          "execution_count": 17
        }
      ]
    },
    {
      "cell_type": "markdown",
      "source": [
        "KNN WITH STANDARD SCALER"
      ],
      "metadata": {
        "id": "jJfLA6m6ijDN"
      }
    },
    {
      "cell_type": "code",
      "source": [
        "from sklearn.neighbors import KNeighborsClassifier\n",
        "knn = KNeighborsClassifier()\n",
        "knn.fit(X_train_scaled_ST, y_train)\n",
        "knn.score(X_test_scaled_ST, y_test)\n",
        "classess = df[\"label\"].unique()\n",
        "print(classess)\n",
        "newdata=knn.predict([[60,55,44,23.004459,82.320763,7.840207,\t263.964248]])\n",
        "print(classess[newdata]) \n",
        "# print(classification_report(y_test,predicted_values))"
      ],
      "metadata": {
        "id": "e_aLY8n_idM2",
        "colab": {
          "base_uri": "https://localhost:8080/"
        },
        "outputId": "55239f96-8731-4d7d-db12-32e205894945"
      },
      "execution_count": null,
      "outputs": [
        {
          "output_type": "stream",
          "name": "stdout",
          "text": [
            "['rice' 'maize' 'chickpea' 'kidneybeans' 'pigeonpeas' 'mothbeans'\n",
            " 'mungbean' 'blackgram' 'lentil' 'pomegranate' 'banana' 'mango' 'grapes'\n",
            " 'watermelon' 'muskmelon' 'apple' 'orange' 'papaya' 'coconut' 'cotton'\n",
            " 'jute' 'coffee']\n",
            "['jute']\n"
          ]
        }
      ]
    },
    {
      "cell_type": "markdown",
      "source": [
        "DECISION TREE"
      ],
      "metadata": {
        "id": "6dDbHiTghqMM"
      }
    },
    {
      "cell_type": "code",
      "source": [
        "from sklearn.tree import DecisionTreeClassifier\n",
        "\n",
        "DecisionTree = DecisionTreeClassifier(criterion=\"entropy\",random_state=2,max_depth=5)\n",
        "\n",
        "DecisionTree.fit(X_train_scaled,y_train)\n",
        "\n",
        "predicted_values = DecisionTree.predict(X_test_scaled)\n",
        "# print(predicted_values)\n",
        "classess = df[\"label\"].unique()\n",
        "print(classess)\n",
        "newdata=DecisionTree.predict([[60,55,44,23.004459,82.320763,7.840207,\t263.964248]])\n",
        "print(classess[newdata]) \n",
        "\n",
        "print(newdata)\n",
        "DecisionTree.score(X_test_scaled, y_test)"
      ],
      "metadata": {
        "id": "V7GP3apLgyRD",
        "colab": {
          "base_uri": "https://localhost:8080/"
        },
        "outputId": "253b3c4c-909a-4271-8975-15f399ef26f5"
      },
      "execution_count": null,
      "outputs": [
        {
          "output_type": "stream",
          "name": "stdout",
          "text": [
            "['rice' 'maize' 'chickpea' 'kidneybeans' 'pigeonpeas' 'mothbeans'\n",
            " 'mungbean' 'blackgram' 'lentil' 'pomegranate' 'banana' 'mango' 'grapes'\n",
            " 'watermelon' 'muskmelon' 'apple' 'orange' 'papaya' 'coconut' 'cotton'\n",
            " 'jute' 'coffee']\n",
            "['rice']\n",
            "[0]\n"
          ]
        },
        {
          "output_type": "execute_result",
          "data": {
            "text/plain": [
              "0.9218181818181819"
            ]
          },
          "metadata": {},
          "execution_count": 32
        }
      ]
    },
    {
      "cell_type": "markdown",
      "source": [
        "DECISION TREE WITH STANDARD SCALER"
      ],
      "metadata": {
        "id": "OxXr0MIIimyH"
      }
    },
    {
      "cell_type": "code",
      "source": [
        "from sklearn.tree import DecisionTreeClassifier\n",
        "\n",
        "DecisionTree = DecisionTreeClassifier(criterion=\"gini\",random_state=2)\n",
        "\n",
        "DecisionTree.fit(X_train_scaled_ST,y_train)\n",
        "\n",
        "predicted_values = DecisionTree.predict(X_test_scaled_ST)\n",
        "DecisionTree.score(X_test_scaled_ST, y_test)\n",
        "\n",
        "y_pred_test = DecisionTree.predict(X_test_scaled_ST)\n",
        "print(\"Accuracy : \")\n",
        "accuracy_score(y_test, y_pred_test)\n",
        "print(classification_report(y_test,predicted_values))\n",
        "# x = metrics.accuracy_score(y_test, predicted_values)"
      ],
      "metadata": {
        "id": "-Qmrjq83ipRz",
        "colab": {
          "base_uri": "https://localhost:8080/"
        },
        "outputId": "3afedccc-f3c5-45f4-f620-94634ac9f5c7"
      },
      "execution_count": null,
      "outputs": [
        {
          "output_type": "stream",
          "name": "stdout",
          "text": [
            "Accuracy : \n",
            "              precision    recall  f1-score   support\n",
            "\n",
            "           0       1.00      1.00      1.00        24\n",
            "           1       1.00      1.00      1.00        24\n",
            "           2       0.97      1.00      0.98        28\n",
            "           3       1.00      0.91      0.95        23\n",
            "           4       1.00      1.00      1.00        23\n",
            "           5       1.00      1.00      1.00        21\n",
            "           6       1.00      1.00      1.00        30\n",
            "           7       1.00      1.00      1.00        37\n",
            "           8       0.93      0.96      0.95        27\n",
            "           9       0.93      1.00      0.96        27\n",
            "          10       1.00      1.00      1.00        23\n",
            "          11       1.00      1.00      1.00        24\n",
            "          12       1.00      1.00      1.00        23\n",
            "          13       1.00      0.97      0.98        29\n",
            "          14       1.00      1.00      1.00        26\n",
            "          15       1.00      1.00      1.00        33\n",
            "          16       1.00      1.00      1.00        19\n",
            "          17       1.00      1.00      1.00        15\n",
            "          18       1.00      1.00      1.00        23\n",
            "          19       1.00      1.00      1.00        28\n",
            "          20       0.94      0.89      0.91        18\n",
            "          21       1.00      1.00      1.00        25\n",
            "\n",
            "    accuracy                           0.99       550\n",
            "   macro avg       0.99      0.99      0.99       550\n",
            "weighted avg       0.99      0.99      0.99       550\n",
            "\n"
          ]
        }
      ]
    },
    {
      "cell_type": "markdown",
      "source": [
        "DECISION TREE WITH GINI INDEX"
      ],
      "metadata": {
        "id": "gwRHQv8BU44F"
      }
    },
    {
      "cell_type": "code",
      "source": [
        "from sklearn.tree import DecisionTreeClassifier\n",
        "\n",
        "DecisionTree = DecisionTreeClassifier(criterion=\"entropy\",random_state=2)\n",
        "\n",
        "DecisionTree.fit(X_train_scaled_ST,y_train)\n",
        "\n",
        "predicted_values = DecisionTree.predict(X_test_scaled_ST)\n",
        "DecisionTree.score(X_test_scaled_ST, y_test)\n",
        "\n",
        "y_pred_test = DecisionTree.predict(X_test_scaled_ST)\n",
        "print(\"Accuracy : \")\n",
        "classess = df[\"label\"].unique()\n",
        "print(classess)\n",
        "newdata=DecisionTree.predict([[90,42,43,20.87,82.00,6.5,\t202]])\n",
        "print(classess[newdata]) \n",
        "\n",
        "accuracy_score(y_test, y_pred_test)\n",
        "print(classification_report(y_test,predicted_values))\n",
        "# x = metrics.accuracy_score(y_test, predicted_values)"
      ],
      "metadata": {
        "id": "Sa_yXAUNUwDW",
        "colab": {
          "base_uri": "https://localhost:8080/"
        },
        "outputId": "a0577ff3-23d0-43fd-a08d-1703320f410a"
      },
      "execution_count": null,
      "outputs": [
        {
          "output_type": "stream",
          "name": "stdout",
          "text": [
            "Accuracy : \n",
            "['rice' 'maize' 'chickpea' 'kidneybeans' 'pigeonpeas' 'mothbeans'\n",
            " 'mungbean' 'blackgram' 'lentil' 'pomegranate' 'banana' 'mango' 'grapes'\n",
            " 'watermelon' 'muskmelon' 'apple' 'orange' 'papaya' 'coconut' 'cotton'\n",
            " 'jute' 'coffee']\n",
            "['rice']\n",
            "              precision    recall  f1-score   support\n",
            "\n",
            "           0       0.92      1.00      0.96        24\n",
            "           1       1.00      1.00      1.00        24\n",
            "           2       0.97      1.00      0.98        28\n",
            "           3       1.00      1.00      1.00        23\n",
            "           4       1.00      1.00      1.00        23\n",
            "           5       1.00      1.00      1.00        21\n",
            "           6       1.00      1.00      1.00        30\n",
            "           7       1.00      1.00      1.00        37\n",
            "           8       0.96      0.93      0.94        27\n",
            "           9       1.00      0.96      0.98        27\n",
            "          10       1.00      1.00      1.00        23\n",
            "          11       1.00      1.00      1.00        24\n",
            "          12       1.00      1.00      1.00        23\n",
            "          13       0.97      0.97      0.97        29\n",
            "          14       1.00      1.00      1.00        26\n",
            "          15       1.00      0.94      0.97        33\n",
            "          16       1.00      1.00      1.00        19\n",
            "          17       1.00      0.87      0.93        15\n",
            "          18       1.00      1.00      1.00        23\n",
            "          19       1.00      1.00      1.00        28\n",
            "          20       0.89      0.94      0.92        18\n",
            "          21       0.93      1.00      0.96        25\n",
            "\n",
            "    accuracy                           0.98       550\n",
            "   macro avg       0.98      0.98      0.98       550\n",
            "weighted avg       0.98      0.98      0.98       550\n",
            "\n"
          ]
        }
      ]
    },
    {
      "cell_type": "code",
      "source": [
        "plt.figure(figsize=(10,4), dpi=80)\n",
        "c_features = len(X_train.columns)\n",
        "plt.barh(range(c_features), DecisionTree.feature_importances_)\n",
        "plt.xlabel(\"Feature importance\")\n",
        "plt.ylabel(\"Feature name\")\n",
        "plt.yticks(np.arange(c_features), X_train.columns)\n",
        "plt.show()"
      ],
      "metadata": {
        "id": "N2ZQNJimylU9"
      },
      "execution_count": null,
      "outputs": []
    },
    {
      "cell_type": "markdown",
      "source": [
        "Random Forest"
      ],
      "metadata": {
        "id": "Lbi7WONyJsaD"
      }
    },
    {
      "cell_type": "code",
      "source": [
        "from sklearn.ensemble import RandomForestClassifier\n",
        "clf = RandomForestClassifier(max_depth=4,n_estimators=100,random_state=42).fit(X_train_scaled, y_train)\n",
        "\n",
        "print('RF Accuracy on training set: {:.2f}'.format(clf.score(X_train_scaled, y_train)))\n",
        "print('RF Accuracy on test set: {:.2f}'.format(clf.score(X_test_scaled, y_test)))"
      ],
      "metadata": {
        "id": "Yia90AEkIFUt",
        "colab": {
          "base_uri": "https://localhost:8080/"
        },
        "outputId": "07a77319-4f1d-4d49-e9f5-c2fb81a1f6c9"
      },
      "execution_count": null,
      "outputs": [
        {
          "output_type": "stream",
          "name": "stdout",
          "text": [
            "RF Accuracy on training set: 0.97\n",
            "RF Accuracy on test set: 0.97\n"
          ]
        }
      ]
    },
    {
      "cell_type": "code",
      "source": [
        "from sklearn.metrics import accuracy_score\n",
        "data = np.array([[104,18, 30, 23.603016, 60.3, 6.7, 140.91]])\n",
        "prediction = clf.predict(data)\n",
        "classess = df[\"label\"].unique()\n",
        "print(classess)\n",
        "newdata=clf.predict([[60,55,44,23.004459,82.320763,7.840207,\t263.964248]])\n",
        "print(classess[newdata]) \n",
        "\n",
        "# print(prediction)\n",
        "print(classification_report(y_test,predicted_values))\n",
        "\n",
        "# y_pred_test = clf.predict(X_test_scaled)\n",
        "# accuracy_score(y_test, y_pred_test)"
      ],
      "metadata": {
        "id": "FefdRUEPJviZ",
        "colab": {
          "base_uri": "https://localhost:8080/"
        },
        "outputId": "8fd711ed-7016-4e9c-e715-77d196a5c7fa"
      },
      "execution_count": null,
      "outputs": [
        {
          "output_type": "stream",
          "name": "stdout",
          "text": [
            "['rice' 'maize' 'chickpea' 'kidneybeans' 'pigeonpeas' 'mothbeans'\n",
            " 'mungbean' 'blackgram' 'lentil' 'pomegranate' 'banana' 'mango' 'grapes'\n",
            " 'watermelon' 'muskmelon' 'apple' 'orange' 'papaya' 'coconut' 'cotton'\n",
            " 'jute' 'coffee']\n",
            "['rice']\n",
            "              precision    recall  f1-score   support\n",
            "\n",
            "           0       1.00      1.00      1.00        24\n",
            "           1       0.92      1.00      0.96        24\n",
            "           2       0.65      1.00      0.79        28\n",
            "           3       1.00      1.00      1.00        23\n",
            "           4       1.00      1.00      1.00        23\n",
            "           5       1.00      0.95      0.98        21\n",
            "           6       1.00      1.00      1.00        30\n",
            "           7       1.00      1.00      1.00        37\n",
            "           8       1.00      0.26      0.41        27\n",
            "           9       1.00      0.74      0.85        27\n",
            "          10       0.92      1.00      0.96        23\n",
            "          11       0.96      1.00      0.98        24\n",
            "          12       1.00      0.96      0.98        23\n",
            "          13       1.00      0.66      0.79        29\n",
            "          14       1.00      1.00      1.00        26\n",
            "          15       1.00      0.94      0.97        33\n",
            "          16       1.00      1.00      1.00        19\n",
            "          17       1.00      0.87      0.93        15\n",
            "          18       0.96      1.00      0.98        23\n",
            "          19       1.00      1.00      1.00        28\n",
            "          20       0.47      1.00      0.64        18\n",
            "          21       0.93      1.00      0.96        25\n",
            "\n",
            "    accuracy                           0.92       550\n",
            "   macro avg       0.95      0.93      0.92       550\n",
            "weighted avg       0.95      0.92      0.92       550\n",
            "\n"
          ]
        }
      ]
    },
    {
      "cell_type": "code",
      "source": [
        "from yellowbrick.classifier import ClassificationReport\n",
        "classes=list(targets.values())\n",
        "visualizer = ClassificationReport(clf, classes=classes, support=True,cmap=\"Blues\")\n",
        "\n",
        "visualizer.fit(X_train, y_train)  # Fit the visualizer and the model\n",
        "visualizer.score(X_test, y_test)  # Evaluate the model on the test data\n",
        "visualizer.show()"
      ],
      "metadata": {
        "id": "ZgupXQxrKHNR"
      },
      "execution_count": null,
      "outputs": []
    },
    {
      "cell_type": "markdown",
      "source": [
        "SVM"
      ],
      "metadata": {
        "id": "u6JFyrrCuz32"
      }
    },
    {
      "cell_type": "code",
      "source": [
        "from sklearn.svm import SVC\n",
        "\n",
        "svc_linear = SVC(kernel = 'linear').fit(X_train_scaled_ST, y_train)\n",
        "classess = df[\"label\"].unique()\n",
        "print(classess)\n",
        "newdata=svc_linear.predict([[60,55,44,23.004459,82.320763,7.840207,\t263.964248]])\n",
        "print(classess[newdata]) \n",
        "\n",
        "print(\"Linear Kernel Accuracy: \",svc_linear.score(X_test_scaled_ST,y_test))\n",
        "\n",
        "svc_poly = SVC(kernel = 'rbf').fit(X_train_scaled, y_train)\n",
        "print(\"Rbf Kernel Accuracy: \", svc_poly.score(X_test_scaled_ST,y_test))\n",
        "\n",
        "svc_poly = SVC(kernel = 'poly').fit(X_train_scaled, y_train)\n",
        "print(\"Poly Kernel Accuracy: \", svc_poly.score(X_test_scaled_ST,y_test))"
      ],
      "metadata": {
        "id": "IUWhSpN3u2uS",
        "colab": {
          "base_uri": "https://localhost:8080/"
        },
        "outputId": "8b8ed717-d82a-4a59-988a-948cf06ff86b"
      },
      "execution_count": null,
      "outputs": [
        {
          "output_type": "stream",
          "name": "stdout",
          "text": [
            "['rice' 'maize' 'chickpea' 'kidneybeans' 'pigeonpeas' 'mothbeans'\n",
            " 'mungbean' 'blackgram' 'lentil' 'pomegranate' 'banana' 'mango' 'grapes'\n",
            " 'watermelon' 'muskmelon' 'apple' 'orange' 'papaya' 'coconut' 'cotton'\n",
            " 'jute' 'coffee']\n",
            "['jute']\n",
            "Linear Kernel Accuracy:  0.9854545454545455\n",
            "Rbf Kernel Accuracy:  0.06363636363636363\n",
            "Poly Kernel Accuracy:  0.4509090909090909\n"
          ]
        }
      ]
    },
    {
      "cell_type": "markdown",
      "source": [
        "LOGISTIC REGRESSION"
      ],
      "metadata": {
        "id": "3TZqav4vocPq"
      }
    },
    {
      "cell_type": "code",
      "source": [
        "\n",
        "LogReg = LogisticRegression(random_state=2)\n",
        "\n",
        "LogReg.fit(X_train_scaled_ST,y_train)\n",
        "\n",
        "predicted_values = LogReg.predict(X_test_scaled_ST)\n",
        "classess = df[\"label\"].unique()\n",
        "print(classess)\n",
        "newdata=LogReg.predict([[60,55,44,23.004459,82.320763,7.840207,\t263.964248]])\n",
        "print(\"boom = :\", classess[newdata]) \n",
        "\n",
        "x = metrics.accuracy_score(y_test, predicted_values)\n",
        "print(\"Logistic Regression's Accuracy is: \", x)\n",
        "\n",
        "print(classification_report(y_test,predicted_values))"
      ],
      "metadata": {
        "id": "S2qPaEMJn1fa",
        "colab": {
          "base_uri": "https://localhost:8080/"
        },
        "outputId": "a982e841-6bd4-4083-e248-67ec881926a5"
      },
      "execution_count": null,
      "outputs": [
        {
          "output_type": "stream",
          "name": "stdout",
          "text": [
            "['rice' 'maize' 'chickpea' 'kidneybeans' 'pigeonpeas' 'mothbeans'\n",
            " 'mungbean' 'blackgram' 'lentil' 'pomegranate' 'banana' 'mango' 'grapes'\n",
            " 'watermelon' 'muskmelon' 'apple' 'orange' 'papaya' 'coconut' 'cotton'\n",
            " 'jute' 'coffee']\n",
            "boom = : ['jute']\n",
            "Logistic Regression's Accuracy is:  0.9654545454545455\n",
            "              precision    recall  f1-score   support\n",
            "\n",
            "           0       1.00      1.00      1.00        24\n",
            "           1       1.00      1.00      1.00        24\n",
            "           2       0.93      0.93      0.93        28\n",
            "           3       1.00      1.00      1.00        23\n",
            "           4       1.00      1.00      1.00        23\n",
            "           5       1.00      1.00      1.00        21\n",
            "           6       1.00      1.00      1.00        30\n",
            "           7       1.00      1.00      1.00        37\n",
            "           8       0.89      0.89      0.89        27\n",
            "           9       0.96      0.96      0.96        27\n",
            "          10       0.92      0.96      0.94        23\n",
            "          11       1.00      1.00      1.00        24\n",
            "          12       0.96      1.00      0.98        23\n",
            "          13       0.96      0.90      0.93        29\n",
            "          14       1.00      1.00      1.00        26\n",
            "          15       0.97      1.00      0.99        33\n",
            "          16       1.00      1.00      1.00        19\n",
            "          17       0.92      0.73      0.81        15\n",
            "          18       0.91      0.91      0.91        23\n",
            "          19       1.00      1.00      1.00        28\n",
            "          20       0.75      0.83      0.79        18\n",
            "          21       1.00      1.00      1.00        25\n",
            "\n",
            "    accuracy                           0.97       550\n",
            "   macro avg       0.96      0.96      0.96       550\n",
            "weighted avg       0.97      0.97      0.97       550\n",
            "\n"
          ]
        }
      ]
    },
    {
      "cell_type": "code",
      "source": [],
      "metadata": {
        "id": "sDIaDtS3mHgA"
      },
      "execution_count": null,
      "outputs": []
    }
  ]
}
